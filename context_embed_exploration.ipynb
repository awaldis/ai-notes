{
 "cells": [
  {
   "cell_type": "code",
   "execution_count": 2,
   "metadata": {},
   "outputs": [],
   "source": [
    "from transformers import BertTokenizer, BertModel\n",
    "from sklearn.metrics.pairwise import cosine_similarity\n",
    "import numpy as np\n",
    "\n",
    "tokenizer = BertTokenizer.from_pretrained('bert-base-uncased',clean_up_tokenization_spaces=True)\n",
    "model = BertModel.from_pretrained('bert-base-uncased')"
   ]
  },
  {
   "cell_type": "code",
   "execution_count": 3,
   "metadata": {},
   "outputs": [],
   "source": [
    "def collect_word_embeddings(word, sentences, tokenizer, model):\n",
    "    embeddings = []\n",
    "    for sentence in sentences:\n",
    "        inputs = tokenizer(sentence, return_tensors='pt')\n",
    "        outputs = model(**inputs)\n",
    "        last_hidden_state = outputs.last_hidden_state[0]\n",
    "        \n",
    "        tokens = tokenizer.tokenize(sentence)\n",
    "        target_indices = [i for i, token in enumerate(tokens) if word in token]\n",
    "        adjusted_indices = [i + 1 for i in target_indices]\n",
    "        \n",
    "        if not adjusted_indices:\n",
    "            continue\n",
    "        \n",
    "        word_embeddings = last_hidden_state[adjusted_indices]\n",
    "        word_embedding = word_embeddings.mean(dim=0)\n",
    "        embeddings.append(word_embedding.detach().numpy())\n",
    "    return embeddings"
   ]
  },
  {
   "cell_type": "code",
   "execution_count": 4,
   "metadata": {},
   "outputs": [],
   "source": [
    "# Set up sentences that all use the same word with the same meaning.\n",
    "sentences = [\n",
    "    \"He went to the bank to deposit money.\",\n",
    "    \"He went to the bank to withdraw money.\",\n",
    "    \"He went to the bank to open an account.\",\n",
    "    \"He went to the bank to steal money.\",\n",
    "    \"He works as a teller at the bank.\",\n",
    "]\n",
    "\n",
    "embeddings = collect_word_embeddings(\"bank\", sentences, tokenizer, model)"
   ]
  },
  {
   "cell_type": "markdown",
   "metadata": {},
   "source": [
    "Now let's see if the same word (\"bank\") gets the same embedding when used in slightly different sentences."
   ]
  },
  {
   "cell_type": "code",
   "execution_count": 5,
   "metadata": {},
   "outputs": [
    {
     "name": "stdout",
     "output_type": "stream",
     "text": [
      "Cosine Similarity Matrix:\n",
      "[[0.9999999  0.9737757  0.9500245  0.9442824  0.80067784]\n",
      " [0.9737757  0.9999997  0.95471483 0.9555222  0.82595307]\n",
      " [0.9500245  0.95471483 1.         0.93418175 0.8358381 ]\n",
      " [0.9442824  0.9555222  0.93418175 0.9999999  0.8418055 ]\n",
      " [0.80067784 0.82595307 0.8358381  0.8418055  0.99999964]]\n"
     ]
    }
   ],
   "source": [
    "# Convert list of embeddings to numpy array\n",
    "embeddings_array = np.vstack(embeddings)\n",
    "\n",
    "# Compute cosine similarity matrix\n",
    "similarity_matrix = cosine_similarity(embeddings_array)\n",
    "\n",
    "print(\"Cosine Similarity Matrix:\")\n",
    "print(similarity_matrix)"
   ]
  }
 ],
 "metadata": {
  "kernelspec": {
   "display_name": "Python 3",
   "language": "python",
   "name": "python3"
  },
  "language_info": {
   "codemirror_mode": {
    "name": "ipython",
    "version": 3
   },
   "file_extension": ".py",
   "mimetype": "text/x-python",
   "name": "python",
   "nbconvert_exporter": "python",
   "pygments_lexer": "ipython3",
   "version": "3.10.11"
  }
 },
 "nbformat": 4,
 "nbformat_minor": 2
}
