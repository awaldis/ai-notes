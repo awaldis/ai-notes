{
  "cells": [
    {
      "cell_type": "markdown",
      "metadata": {
        "id": "view-in-github",
        "colab_type": "text"
      },
      "source": [
        "<a href=\"https://colab.research.google.com/github/awaldis/ai-notes/blob/main/restaurant_decision_tree.ipynb\" target=\"_parent\"><img src=\"https://colab.research.google.com/assets/colab-badge.svg\" alt=\"Open In Colab\"/></a>"
      ]
    },
    {
      "cell_type": "markdown",
      "metadata": {
        "id": "7Z2jcRKwUHqV"
      },
      "source": [
        "This notebook implements in Python the restaurant decision tree algorithm from Chapter 19 in:\n",
        "\n",
        "Russell, Stuart, and Peter Norvig. *Artificial Intelligence: A Modern Approach.* 4th ed. Pearson, 2020."
      ]
    },
    {
      "cell_type": "code",
      "source": [
        "import pandas as pd\n",
        "from google.colab import files\n",
        "from io import StringIO\n",
        "import math\n",
        "import graphviz"
      ],
      "metadata": {
        "id": "NfvDB6KYjV61"
      },
      "execution_count": 1,
      "outputs": []
    },
    {
      "cell_type": "code",
      "source": [
        "# Fetch a single <1MB file using the raw GitHub URL.\n",
        "!curl --remote-name \\\n",
        "     -H 'Accept: application/vnd.github.v3.raw' \\\n",
        "     --location https://raw.githubusercontent.com/awaldis/ai-notes/main/restaurant_waiting_examples.csv"
      ],
      "metadata": {
        "colab": {
          "base_uri": "https://localhost:8080/"
        },
        "id": "MqHS2woxSvpV",
        "outputId": "48811916-b171-478c-c138-f07464e5ae75"
      },
      "execution_count": 2,
      "outputs": [
        {
          "output_type": "stream",
          "name": "stdout",
          "text": [
            "  % Total    % Received % Xferd  Average Speed   Time    Time     Time  Current\n",
            "                                 Dload  Upload   Total   Spent    Left  Speed\n",
            "\r  0     0    0     0    0     0      0      0 --:--:-- --:--:-- --:--:--     0\r100   848  100   848    0     0   3666      0 --:--:-- --:--:-- --:--:--  3670\n"
          ]
        }
      ]
    },
    {
      "cell_type": "code",
      "source": [
        "# Read the downloaded CSV file into a Pandas data frame.\n",
        "df = pd.read_csv('restaurant_waiting_examples.csv', skipinitialspace=True, keep_default_na=False)"
      ],
      "metadata": {
        "id": "2aLZKhj5Wvg_"
      },
      "execution_count": 26,
      "outputs": []
    },
    {
      "cell_type": "markdown",
      "source": [
        "Print the examples."
      ],
      "metadata": {
        "id": "YWRw97aCc1DX"
      }
    },
    {
      "cell_type": "code",
      "source": [
        "df"
      ],
      "metadata": {
        "colab": {
          "base_uri": "https://localhost:8080/",
          "height": 426
        },
        "id": "O6valK5kaMHN",
        "outputId": "9408c9c4-7319-4b2d-b2a0-fec1e098790c"
      },
      "execution_count": 27,
      "outputs": [
        {
          "output_type": "execute_result",
          "data": {
            "text/plain": [
              "   Alternate  Bar Fri/Sat Hungry Patrons Price Raining Reservation     Type  \\\n",
              "0        Yes   No      No    Yes    Some   $$$      No         Yes   French   \n",
              "1        Yes   No      No    Yes    Full     $      No          No     Thai   \n",
              "2         No  Yes      No     No    Some     $      No          No   Burger   \n",
              "3        Yes   No     Yes    Yes    Full     $      No          No     Thai   \n",
              "4        Yes   No     Yes     No    Full   $$$      No         Yes   French   \n",
              "5         No  Yes      No    Yes    Some    $$     Yes         Yes  Italian   \n",
              "6         No  Yes      No     No    None     $     Yes          No   Burger   \n",
              "7         No   No      No    Yes    Some    $$     Yes         Yes     Thai   \n",
              "8         No  Yes     Yes     No    Full     $     Yes          No   Burger   \n",
              "9        Yes  Yes     Yes    Yes    Full   $$$      No         Yes  Italian   \n",
              "10        No   No      No     No    None     $      No          No     Thai   \n",
              "11       Yes  Yes     Yes    Yes    Full     $      No          No   Burger   \n",
              "\n",
              "   WaitEstimate Output  \n",
              "0          0-10    Yes  \n",
              "1         30-60     No  \n",
              "2          0-10    Yes  \n",
              "3         10-30    Yes  \n",
              "4           >60     No  \n",
              "5          0-10    Yes  \n",
              "6          0-10     No  \n",
              "7          0-10    Yes  \n",
              "8           >60     No  \n",
              "9         10-30     No  \n",
              "10         0-10     No  \n",
              "11        30-60    Yes  "
            ],
            "text/html": [
              "\n",
              "  <div id=\"df-7d4c512a-a34e-4ddb-a6e8-17949d457879\" class=\"colab-df-container\">\n",
              "    <div>\n",
              "<style scoped>\n",
              "    .dataframe tbody tr th:only-of-type {\n",
              "        vertical-align: middle;\n",
              "    }\n",
              "\n",
              "    .dataframe tbody tr th {\n",
              "        vertical-align: top;\n",
              "    }\n",
              "\n",
              "    .dataframe thead th {\n",
              "        text-align: right;\n",
              "    }\n",
              "</style>\n",
              "<table border=\"1\" class=\"dataframe\">\n",
              "  <thead>\n",
              "    <tr style=\"text-align: right;\">\n",
              "      <th></th>\n",
              "      <th>Alternate</th>\n",
              "      <th>Bar</th>\n",
              "      <th>Fri/Sat</th>\n",
              "      <th>Hungry</th>\n",
              "      <th>Patrons</th>\n",
              "      <th>Price</th>\n",
              "      <th>Raining</th>\n",
              "      <th>Reservation</th>\n",
              "      <th>Type</th>\n",
              "      <th>WaitEstimate</th>\n",
              "      <th>Output</th>\n",
              "    </tr>\n",
              "  </thead>\n",
              "  <tbody>\n",
              "    <tr>\n",
              "      <th>0</th>\n",
              "      <td>Yes</td>\n",
              "      <td>No</td>\n",
              "      <td>No</td>\n",
              "      <td>Yes</td>\n",
              "      <td>Some</td>\n",
              "      <td>$$$</td>\n",
              "      <td>No</td>\n",
              "      <td>Yes</td>\n",
              "      <td>French</td>\n",
              "      <td>0-10</td>\n",
              "      <td>Yes</td>\n",
              "    </tr>\n",
              "    <tr>\n",
              "      <th>1</th>\n",
              "      <td>Yes</td>\n",
              "      <td>No</td>\n",
              "      <td>No</td>\n",
              "      <td>Yes</td>\n",
              "      <td>Full</td>\n",
              "      <td>$</td>\n",
              "      <td>No</td>\n",
              "      <td>No</td>\n",
              "      <td>Thai</td>\n",
              "      <td>30-60</td>\n",
              "      <td>No</td>\n",
              "    </tr>\n",
              "    <tr>\n",
              "      <th>2</th>\n",
              "      <td>No</td>\n",
              "      <td>Yes</td>\n",
              "      <td>No</td>\n",
              "      <td>No</td>\n",
              "      <td>Some</td>\n",
              "      <td>$</td>\n",
              "      <td>No</td>\n",
              "      <td>No</td>\n",
              "      <td>Burger</td>\n",
              "      <td>0-10</td>\n",
              "      <td>Yes</td>\n",
              "    </tr>\n",
              "    <tr>\n",
              "      <th>3</th>\n",
              "      <td>Yes</td>\n",
              "      <td>No</td>\n",
              "      <td>Yes</td>\n",
              "      <td>Yes</td>\n",
              "      <td>Full</td>\n",
              "      <td>$</td>\n",
              "      <td>No</td>\n",
              "      <td>No</td>\n",
              "      <td>Thai</td>\n",
              "      <td>10-30</td>\n",
              "      <td>Yes</td>\n",
              "    </tr>\n",
              "    <tr>\n",
              "      <th>4</th>\n",
              "      <td>Yes</td>\n",
              "      <td>No</td>\n",
              "      <td>Yes</td>\n",
              "      <td>No</td>\n",
              "      <td>Full</td>\n",
              "      <td>$$$</td>\n",
              "      <td>No</td>\n",
              "      <td>Yes</td>\n",
              "      <td>French</td>\n",
              "      <td>&gt;60</td>\n",
              "      <td>No</td>\n",
              "    </tr>\n",
              "    <tr>\n",
              "      <th>5</th>\n",
              "      <td>No</td>\n",
              "      <td>Yes</td>\n",
              "      <td>No</td>\n",
              "      <td>Yes</td>\n",
              "      <td>Some</td>\n",
              "      <td>$$</td>\n",
              "      <td>Yes</td>\n",
              "      <td>Yes</td>\n",
              "      <td>Italian</td>\n",
              "      <td>0-10</td>\n",
              "      <td>Yes</td>\n",
              "    </tr>\n",
              "    <tr>\n",
              "      <th>6</th>\n",
              "      <td>No</td>\n",
              "      <td>Yes</td>\n",
              "      <td>No</td>\n",
              "      <td>No</td>\n",
              "      <td>None</td>\n",
              "      <td>$</td>\n",
              "      <td>Yes</td>\n",
              "      <td>No</td>\n",
              "      <td>Burger</td>\n",
              "      <td>0-10</td>\n",
              "      <td>No</td>\n",
              "    </tr>\n",
              "    <tr>\n",
              "      <th>7</th>\n",
              "      <td>No</td>\n",
              "      <td>No</td>\n",
              "      <td>No</td>\n",
              "      <td>Yes</td>\n",
              "      <td>Some</td>\n",
              "      <td>$$</td>\n",
              "      <td>Yes</td>\n",
              "      <td>Yes</td>\n",
              "      <td>Thai</td>\n",
              "      <td>0-10</td>\n",
              "      <td>Yes</td>\n",
              "    </tr>\n",
              "    <tr>\n",
              "      <th>8</th>\n",
              "      <td>No</td>\n",
              "      <td>Yes</td>\n",
              "      <td>Yes</td>\n",
              "      <td>No</td>\n",
              "      <td>Full</td>\n",
              "      <td>$</td>\n",
              "      <td>Yes</td>\n",
              "      <td>No</td>\n",
              "      <td>Burger</td>\n",
              "      <td>&gt;60</td>\n",
              "      <td>No</td>\n",
              "    </tr>\n",
              "    <tr>\n",
              "      <th>9</th>\n",
              "      <td>Yes</td>\n",
              "      <td>Yes</td>\n",
              "      <td>Yes</td>\n",
              "      <td>Yes</td>\n",
              "      <td>Full</td>\n",
              "      <td>$$$</td>\n",
              "      <td>No</td>\n",
              "      <td>Yes</td>\n",
              "      <td>Italian</td>\n",
              "      <td>10-30</td>\n",
              "      <td>No</td>\n",
              "    </tr>\n",
              "    <tr>\n",
              "      <th>10</th>\n",
              "      <td>No</td>\n",
              "      <td>No</td>\n",
              "      <td>No</td>\n",
              "      <td>No</td>\n",
              "      <td>None</td>\n",
              "      <td>$</td>\n",
              "      <td>No</td>\n",
              "      <td>No</td>\n",
              "      <td>Thai</td>\n",
              "      <td>0-10</td>\n",
              "      <td>No</td>\n",
              "    </tr>\n",
              "    <tr>\n",
              "      <th>11</th>\n",
              "      <td>Yes</td>\n",
              "      <td>Yes</td>\n",
              "      <td>Yes</td>\n",
              "      <td>Yes</td>\n",
              "      <td>Full</td>\n",
              "      <td>$</td>\n",
              "      <td>No</td>\n",
              "      <td>No</td>\n",
              "      <td>Burger</td>\n",
              "      <td>30-60</td>\n",
              "      <td>Yes</td>\n",
              "    </tr>\n",
              "  </tbody>\n",
              "</table>\n",
              "</div>\n",
              "    <div class=\"colab-df-buttons\">\n",
              "\n",
              "  <div class=\"colab-df-container\">\n",
              "    <button class=\"colab-df-convert\" onclick=\"convertToInteractive('df-7d4c512a-a34e-4ddb-a6e8-17949d457879')\"\n",
              "            title=\"Convert this dataframe to an interactive table.\"\n",
              "            style=\"display:none;\">\n",
              "\n",
              "  <svg xmlns=\"http://www.w3.org/2000/svg\" height=\"24px\" viewBox=\"0 -960 960 960\">\n",
              "    <path d=\"M120-120v-720h720v720H120Zm60-500h600v-160H180v160Zm220 220h160v-160H400v160Zm0 220h160v-160H400v160ZM180-400h160v-160H180v160Zm440 0h160v-160H620v160ZM180-180h160v-160H180v160Zm440 0h160v-160H620v160Z\"/>\n",
              "  </svg>\n",
              "    </button>\n",
              "\n",
              "  <style>\n",
              "    .colab-df-container {\n",
              "      display:flex;\n",
              "      gap: 12px;\n",
              "    }\n",
              "\n",
              "    .colab-df-convert {\n",
              "      background-color: #E8F0FE;\n",
              "      border: none;\n",
              "      border-radius: 50%;\n",
              "      cursor: pointer;\n",
              "      display: none;\n",
              "      fill: #1967D2;\n",
              "      height: 32px;\n",
              "      padding: 0 0 0 0;\n",
              "      width: 32px;\n",
              "    }\n",
              "\n",
              "    .colab-df-convert:hover {\n",
              "      background-color: #E2EBFA;\n",
              "      box-shadow: 0px 1px 2px rgba(60, 64, 67, 0.3), 0px 1px 3px 1px rgba(60, 64, 67, 0.15);\n",
              "      fill: #174EA6;\n",
              "    }\n",
              "\n",
              "    .colab-df-buttons div {\n",
              "      margin-bottom: 4px;\n",
              "    }\n",
              "\n",
              "    [theme=dark] .colab-df-convert {\n",
              "      background-color: #3B4455;\n",
              "      fill: #D2E3FC;\n",
              "    }\n",
              "\n",
              "    [theme=dark] .colab-df-convert:hover {\n",
              "      background-color: #434B5C;\n",
              "      box-shadow: 0px 1px 3px 1px rgba(0, 0, 0, 0.15);\n",
              "      filter: drop-shadow(0px 1px 2px rgba(0, 0, 0, 0.3));\n",
              "      fill: #FFFFFF;\n",
              "    }\n",
              "  </style>\n",
              "\n",
              "    <script>\n",
              "      const buttonEl =\n",
              "        document.querySelector('#df-7d4c512a-a34e-4ddb-a6e8-17949d457879 button.colab-df-convert');\n",
              "      buttonEl.style.display =\n",
              "        google.colab.kernel.accessAllowed ? 'block' : 'none';\n",
              "\n",
              "      async function convertToInteractive(key) {\n",
              "        const element = document.querySelector('#df-7d4c512a-a34e-4ddb-a6e8-17949d457879');\n",
              "        const dataTable =\n",
              "          await google.colab.kernel.invokeFunction('convertToInteractive',\n",
              "                                                    [key], {});\n",
              "        if (!dataTable) return;\n",
              "\n",
              "        const docLinkHtml = 'Like what you see? Visit the ' +\n",
              "          '<a target=\"_blank\" href=https://colab.research.google.com/notebooks/data_table.ipynb>data table notebook</a>'\n",
              "          + ' to learn more about interactive tables.';\n",
              "        element.innerHTML = '';\n",
              "        dataTable['output_type'] = 'display_data';\n",
              "        await google.colab.output.renderOutput(dataTable, element);\n",
              "        const docLink = document.createElement('div');\n",
              "        docLink.innerHTML = docLinkHtml;\n",
              "        element.appendChild(docLink);\n",
              "      }\n",
              "    </script>\n",
              "  </div>\n",
              "\n",
              "\n",
              "<div id=\"df-d6670873-33cc-4af8-8ebd-205afbaa5a91\">\n",
              "  <button class=\"colab-df-quickchart\" onclick=\"quickchart('df-d6670873-33cc-4af8-8ebd-205afbaa5a91')\"\n",
              "            title=\"Suggest charts\"\n",
              "            style=\"display:none;\">\n",
              "\n",
              "<svg xmlns=\"http://www.w3.org/2000/svg\" height=\"24px\"viewBox=\"0 0 24 24\"\n",
              "     width=\"24px\">\n",
              "    <g>\n",
              "        <path d=\"M19 3H5c-1.1 0-2 .9-2 2v14c0 1.1.9 2 2 2h14c1.1 0 2-.9 2-2V5c0-1.1-.9-2-2-2zM9 17H7v-7h2v7zm4 0h-2V7h2v10zm4 0h-2v-4h2v4z\"/>\n",
              "    </g>\n",
              "</svg>\n",
              "  </button>\n",
              "\n",
              "<style>\n",
              "  .colab-df-quickchart {\n",
              "      --bg-color: #E8F0FE;\n",
              "      --fill-color: #1967D2;\n",
              "      --hover-bg-color: #E2EBFA;\n",
              "      --hover-fill-color: #174EA6;\n",
              "      --disabled-fill-color: #AAA;\n",
              "      --disabled-bg-color: #DDD;\n",
              "  }\n",
              "\n",
              "  [theme=dark] .colab-df-quickchart {\n",
              "      --bg-color: #3B4455;\n",
              "      --fill-color: #D2E3FC;\n",
              "      --hover-bg-color: #434B5C;\n",
              "      --hover-fill-color: #FFFFFF;\n",
              "      --disabled-bg-color: #3B4455;\n",
              "      --disabled-fill-color: #666;\n",
              "  }\n",
              "\n",
              "  .colab-df-quickchart {\n",
              "    background-color: var(--bg-color);\n",
              "    border: none;\n",
              "    border-radius: 50%;\n",
              "    cursor: pointer;\n",
              "    display: none;\n",
              "    fill: var(--fill-color);\n",
              "    height: 32px;\n",
              "    padding: 0;\n",
              "    width: 32px;\n",
              "  }\n",
              "\n",
              "  .colab-df-quickchart:hover {\n",
              "    background-color: var(--hover-bg-color);\n",
              "    box-shadow: 0 1px 2px rgba(60, 64, 67, 0.3), 0 1px 3px 1px rgba(60, 64, 67, 0.15);\n",
              "    fill: var(--button-hover-fill-color);\n",
              "  }\n",
              "\n",
              "  .colab-df-quickchart-complete:disabled,\n",
              "  .colab-df-quickchart-complete:disabled:hover {\n",
              "    background-color: var(--disabled-bg-color);\n",
              "    fill: var(--disabled-fill-color);\n",
              "    box-shadow: none;\n",
              "  }\n",
              "\n",
              "  .colab-df-spinner {\n",
              "    border: 2px solid var(--fill-color);\n",
              "    border-color: transparent;\n",
              "    border-bottom-color: var(--fill-color);\n",
              "    animation:\n",
              "      spin 1s steps(1) infinite;\n",
              "  }\n",
              "\n",
              "  @keyframes spin {\n",
              "    0% {\n",
              "      border-color: transparent;\n",
              "      border-bottom-color: var(--fill-color);\n",
              "      border-left-color: var(--fill-color);\n",
              "    }\n",
              "    20% {\n",
              "      border-color: transparent;\n",
              "      border-left-color: var(--fill-color);\n",
              "      border-top-color: var(--fill-color);\n",
              "    }\n",
              "    30% {\n",
              "      border-color: transparent;\n",
              "      border-left-color: var(--fill-color);\n",
              "      border-top-color: var(--fill-color);\n",
              "      border-right-color: var(--fill-color);\n",
              "    }\n",
              "    40% {\n",
              "      border-color: transparent;\n",
              "      border-right-color: var(--fill-color);\n",
              "      border-top-color: var(--fill-color);\n",
              "    }\n",
              "    60% {\n",
              "      border-color: transparent;\n",
              "      border-right-color: var(--fill-color);\n",
              "    }\n",
              "    80% {\n",
              "      border-color: transparent;\n",
              "      border-right-color: var(--fill-color);\n",
              "      border-bottom-color: var(--fill-color);\n",
              "    }\n",
              "    90% {\n",
              "      border-color: transparent;\n",
              "      border-bottom-color: var(--fill-color);\n",
              "    }\n",
              "  }\n",
              "</style>\n",
              "\n",
              "  <script>\n",
              "    async function quickchart(key) {\n",
              "      const quickchartButtonEl =\n",
              "        document.querySelector('#' + key + ' button');\n",
              "      quickchartButtonEl.disabled = true;  // To prevent multiple clicks.\n",
              "      quickchartButtonEl.classList.add('colab-df-spinner');\n",
              "      try {\n",
              "        const charts = await google.colab.kernel.invokeFunction(\n",
              "            'suggestCharts', [key], {});\n",
              "      } catch (error) {\n",
              "        console.error('Error during call to suggestCharts:', error);\n",
              "      }\n",
              "      quickchartButtonEl.classList.remove('colab-df-spinner');\n",
              "      quickchartButtonEl.classList.add('colab-df-quickchart-complete');\n",
              "    }\n",
              "    (() => {\n",
              "      let quickchartButtonEl =\n",
              "        document.querySelector('#df-d6670873-33cc-4af8-8ebd-205afbaa5a91 button');\n",
              "      quickchartButtonEl.style.display =\n",
              "        google.colab.kernel.accessAllowed ? 'block' : 'none';\n",
              "    })();\n",
              "  </script>\n",
              "</div>\n",
              "\n",
              "  <div id=\"id_6aa3bdda-e717-4da6-b81c-7c3117383ce5\">\n",
              "    <style>\n",
              "      .colab-df-generate {\n",
              "        background-color: #E8F0FE;\n",
              "        border: none;\n",
              "        border-radius: 50%;\n",
              "        cursor: pointer;\n",
              "        display: none;\n",
              "        fill: #1967D2;\n",
              "        height: 32px;\n",
              "        padding: 0 0 0 0;\n",
              "        width: 32px;\n",
              "      }\n",
              "\n",
              "      .colab-df-generate:hover {\n",
              "        background-color: #E2EBFA;\n",
              "        box-shadow: 0px 1px 2px rgba(60, 64, 67, 0.3), 0px 1px 3px 1px rgba(60, 64, 67, 0.15);\n",
              "        fill: #174EA6;\n",
              "      }\n",
              "\n",
              "      [theme=dark] .colab-df-generate {\n",
              "        background-color: #3B4455;\n",
              "        fill: #D2E3FC;\n",
              "      }\n",
              "\n",
              "      [theme=dark] .colab-df-generate:hover {\n",
              "        background-color: #434B5C;\n",
              "        box-shadow: 0px 1px 3px 1px rgba(0, 0, 0, 0.15);\n",
              "        filter: drop-shadow(0px 1px 2px rgba(0, 0, 0, 0.3));\n",
              "        fill: #FFFFFF;\n",
              "      }\n",
              "    </style>\n",
              "    <button class=\"colab-df-generate\" onclick=\"generateWithVariable('df')\"\n",
              "            title=\"Generate code using this dataframe.\"\n",
              "            style=\"display:none;\">\n",
              "\n",
              "  <svg xmlns=\"http://www.w3.org/2000/svg\" height=\"24px\"viewBox=\"0 0 24 24\"\n",
              "       width=\"24px\">\n",
              "    <path d=\"M7,19H8.4L18.45,9,17,7.55,7,17.6ZM5,21V16.75L18.45,3.32a2,2,0,0,1,2.83,0l1.4,1.43a1.91,1.91,0,0,1,.58,1.4,1.91,1.91,0,0,1-.58,1.4L9.25,21ZM18.45,9,17,7.55Zm-12,3A5.31,5.31,0,0,0,4.9,8.1,5.31,5.31,0,0,0,1,6.5,5.31,5.31,0,0,0,4.9,4.9,5.31,5.31,0,0,0,6.5,1,5.31,5.31,0,0,0,8.1,4.9,5.31,5.31,0,0,0,12,6.5,5.46,5.46,0,0,0,6.5,12Z\"/>\n",
              "  </svg>\n",
              "    </button>\n",
              "    <script>\n",
              "      (() => {\n",
              "      const buttonEl =\n",
              "        document.querySelector('#id_6aa3bdda-e717-4da6-b81c-7c3117383ce5 button.colab-df-generate');\n",
              "      buttonEl.style.display =\n",
              "        google.colab.kernel.accessAllowed ? 'block' : 'none';\n",
              "\n",
              "      buttonEl.onclick = () => {\n",
              "        google.colab.notebook.generateWithVariable('df');\n",
              "      }\n",
              "      })();\n",
              "    </script>\n",
              "  </div>\n",
              "\n",
              "    </div>\n",
              "  </div>\n"
            ],
            "application/vnd.google.colaboratory.intrinsic+json": {
              "type": "dataframe",
              "variable_name": "df",
              "summary": "{\n  \"name\": \"df\",\n  \"rows\": 12,\n  \"fields\": [\n    {\n      \"column\": \"Alternate\",\n      \"properties\": {\n        \"dtype\": \"category\",\n        \"num_unique_values\": 2,\n        \"samples\": [\n          \"No\",\n          \"Yes\"\n        ],\n        \"semantic_type\": \"\",\n        \"description\": \"\"\n      }\n    },\n    {\n      \"column\": \"Bar\",\n      \"properties\": {\n        \"dtype\": \"category\",\n        \"num_unique_values\": 2,\n        \"samples\": [\n          \"Yes\",\n          \"No\"\n        ],\n        \"semantic_type\": \"\",\n        \"description\": \"\"\n      }\n    },\n    {\n      \"column\": \"Fri/Sat\",\n      \"properties\": {\n        \"dtype\": \"category\",\n        \"num_unique_values\": 2,\n        \"samples\": [\n          \"Yes\",\n          \"No\"\n        ],\n        \"semantic_type\": \"\",\n        \"description\": \"\"\n      }\n    },\n    {\n      \"column\": \"Hungry\",\n      \"properties\": {\n        \"dtype\": \"category\",\n        \"num_unique_values\": 2,\n        \"samples\": [\n          \"No\",\n          \"Yes\"\n        ],\n        \"semantic_type\": \"\",\n        \"description\": \"\"\n      }\n    },\n    {\n      \"column\": \"Patrons\",\n      \"properties\": {\n        \"dtype\": \"category\",\n        \"num_unique_values\": 3,\n        \"samples\": [\n          \"Some\",\n          \"Full\"\n        ],\n        \"semantic_type\": \"\",\n        \"description\": \"\"\n      }\n    },\n    {\n      \"column\": \"Price\",\n      \"properties\": {\n        \"dtype\": \"category\",\n        \"num_unique_values\": 3,\n        \"samples\": [\n          \"$$$\",\n          \"$\"\n        ],\n        \"semantic_type\": \"\",\n        \"description\": \"\"\n      }\n    },\n    {\n      \"column\": \"Raining\",\n      \"properties\": {\n        \"dtype\": \"category\",\n        \"num_unique_values\": 2,\n        \"samples\": [\n          \"Yes\",\n          \"No\"\n        ],\n        \"semantic_type\": \"\",\n        \"description\": \"\"\n      }\n    },\n    {\n      \"column\": \"Reservation\",\n      \"properties\": {\n        \"dtype\": \"category\",\n        \"num_unique_values\": 2,\n        \"samples\": [\n          \"No\",\n          \"Yes\"\n        ],\n        \"semantic_type\": \"\",\n        \"description\": \"\"\n      }\n    },\n    {\n      \"column\": \"Type\",\n      \"properties\": {\n        \"dtype\": \"category\",\n        \"num_unique_values\": 4,\n        \"samples\": [\n          \"Thai\",\n          \"Italian\"\n        ],\n        \"semantic_type\": \"\",\n        \"description\": \"\"\n      }\n    },\n    {\n      \"column\": \"WaitEstimate\",\n      \"properties\": {\n        \"dtype\": \"category\",\n        \"num_unique_values\": 4,\n        \"samples\": [\n          \"30-60\",\n          \">60\"\n        ],\n        \"semantic_type\": \"\",\n        \"description\": \"\"\n      }\n    },\n    {\n      \"column\": \"Output\",\n      \"properties\": {\n        \"dtype\": \"category\",\n        \"num_unique_values\": 2,\n        \"samples\": [\n          \"No\",\n          \"Yes\"\n        ],\n        \"semantic_type\": \"\",\n        \"description\": \"\"\n      }\n    }\n  ]\n}"
            }
          },
          "metadata": {},
          "execution_count": 27
        }
      ]
    },
    {
      "cell_type": "code",
      "source": [
        "def plurality_value(df):\n",
        "    \"\"\"\n",
        "    Determine the most common value in the output column.\n",
        "\n",
        "    Args:\n",
        "        df: A pandas data frame.\n",
        "\n",
        "    Returns:\n",
        "        A string with the name of the most common attribute value in the output\n",
        "        column.\n",
        "    \"\"\"\n",
        "    return( df['Output'].value_counts().idxmax())"
      ],
      "metadata": {
        "id": "j-p19__fYTVA"
      },
      "execution_count": 5,
      "outputs": []
    },
    {
      "cell_type": "code",
      "source": [
        "def entropy_boolean(prob):\n",
        "    \"\"\"\n",
        "    Calculate the information entropy of a boolean random variable.\n",
        "\n",
        "    Args:\n",
        "        prob: Probability that the random variable is true (or false, either\n",
        "        way the entropy is the same).\n",
        "\n",
        "    Returns:\n",
        "        Entropy in bits.\n",
        "    \"\"\"\n",
        "    if prob > 0 and prob < 1 :\n",
        "        return(-(prob * math.log2(prob) + ((1 - prob) * math.log2(1 - prob))))\n",
        "    return(0)\n"
      ],
      "metadata": {
        "id": "A9fJdiZIUP4L"
      },
      "execution_count": 6,
      "outputs": []
    },
    {
      "cell_type": "code",
      "source": [
        "def remaining_entropy(groups, tot_examples):\n",
        "    \"\"\"\n",
        "    Calculate the remaining entropy if we were to split on the given groups.\n",
        "\n",
        "    Args:\n",
        "        groups: A pandas GroupBy object.\n",
        "        tot_examples: The total number of examples in all the groups.\n",
        "\n",
        "    Returns:\n",
        "        The remaining entropy in bits.\n",
        "    \"\"\"\n",
        "    output = 0.0  # Start with a remaining entropy of zero.\n",
        "\n",
        "    # Now accumulate each groups contribution to the remaining entropy.\n",
        "    for value, group_df in groups:\n",
        "        counts_series = group_df['Output'].value_counts()\n",
        "\n",
        "        if 'Yes' in counts_series.index:\n",
        "            tot_yes = counts_series['Yes']\n",
        "        else:\n",
        "            tot_yes = 0\n",
        "\n",
        "        tot_examples_this_value = len(group_df)\n",
        "        output += (tot_examples_this_value/tot_examples) * entropy_boolean(tot_yes/tot_examples_this_value)\n",
        "    return(output)"
      ],
      "metadata": {
        "id": "14dmmtnCjUev"
      },
      "execution_count": 7,
      "outputs": []
    },
    {
      "cell_type": "code",
      "source": [
        "def max_info_gain(df):\n",
        "    \"\"\"\n",
        "    Determine the attribute with the maximum information gain.\n",
        "\n",
        "    Args:\n",
        "        df: A pandas data frame.\n",
        "\n",
        "    Returns:\n",
        "        A string with the name of the column that has the maximum information\n",
        "        gain.\n",
        "    \"\"\"\n",
        "    # TODO - replace constant 1 with actual entropy calculation.\n",
        "    total_entropy = 1\n",
        "    max_info_gain = 0.0\n",
        "    max_info_gain_column = 'Error'\n",
        "\n",
        "    for column in df.columns:\n",
        "        if column == 'Output':\n",
        "            continue\n",
        "        info_gain = total_entropy - remaining_entropy(df.groupby(column), len(df))\n",
        "        if info_gain > max_info_gain:\n",
        "            max_info_gain = info_gain\n",
        "            max_info_gain_column = column\n",
        "    return(max_info_gain_column)\n",
        "\n",
        "#    print(f\"{column} :  %.3f\" % info_gain)\n"
      ],
      "metadata": {
        "id": "b333bx43j1EN"
      },
      "execution_count": 8,
      "outputs": []
    },
    {
      "cell_type": "code",
      "source": [
        "class TreeNode:\n",
        "    \"\"\"Data and methods for a node in a decision tree.\"\"\"\n",
        "    def __init__(self, name, branch_name):\n",
        "        print(f\"Created node for: {name}\")\n",
        "        self.name = name\n",
        "        self.children = []\n",
        "        self.branch_name = branch_name # the branch that leads to this node.\n",
        "\n",
        "    def add_child(self, child_node ):\n",
        "        self.children.append(child_node)\n",
        "\n",
        "    def evaluate(self, input_data):\n",
        "        \"\"\"\n",
        "        Use the input vector to walk through the decision tree and find the value\n",
        "        of the leaf consistent with the input.\n",
        "\n",
        "        Args:\n",
        "            input_data: A vector with the data that caller wants to evaluate.\n",
        "        Returns:\n",
        "           The predicted output.\n",
        "    \"\"\"\n",
        "        if not self.children:\n",
        "            return self.name\n",
        "\n",
        "        for child in self.children:\n",
        "            if input_data[self.name] == child.branch_name:\n",
        "                return child.evaluate(input_data)\n",
        "\n",
        "        return None  # No matching child found\n",
        "\n",
        "    def create_graph(self, dot, parent_graph_node_name='', level=1, item_num=1):\n",
        "        \"\"\"\n",
        "        Walk through the tree and create a graphical representation with graphviz.\n",
        "\n",
        "        Args:\n",
        "            dot: Graphviz directed graph source code object.\n",
        "            parent_graph_node_name : let root call use default, auto-generated for children\n",
        "            level : let root call use default, auto-generated for children\n",
        "            item_num : let root call use default, auto-generated for children\n",
        "        Returns:\n",
        "           Graphviz directed graph source code object with the code to render the tree in graphical form.\n",
        "    \"\"\"\n",
        "        #Create a unique name for this graph node.\n",
        "        this_graph_node_name = f\"{level}_{item_num}\"\n",
        "\n",
        "        # Create node on graph for this tree node.\n",
        "        dot.node(this_graph_node_name, self.name, style='filled', fillcolor='lightblue')\n",
        "\n",
        "        # Since the root node has no parent this will prevent it from trying to\n",
        "        # create an edge to it.\n",
        "        if parent_graph_node_name:\n",
        "            # Create edge on graph from parent node to this node.\n",
        "            dot.edge(parent_graph_node_name, this_graph_node_name,\n",
        "                     label=self.branch_name)\n",
        "\n",
        "        # Set up varibales for the next level of graph node names.\n",
        "        level += 1\n",
        "        item_num = 1\n",
        "\n",
        "        # Create graph nodes and edges for all the descendents of this node.\n",
        "        for child in self.children:\n",
        "             child.create_graph(dot, this_graph_node_name, level, item_num)\n",
        "             item_num += 1\n",
        "        return dot\n"
      ],
      "metadata": {
        "id": "BkF82HGZXqnj"
      },
      "execution_count": 9,
      "outputs": []
    },
    {
      "cell_type": "code",
      "source": [
        "def print_tree(node, level=0):\n",
        "    indent = \"  \" * level\n",
        "    print(f\"{indent}Node: {node.name}, Branch: {node.branch_name}\")\n",
        "    for child in node.children:\n",
        "        print_tree(child, level + 1)"
      ],
      "metadata": {
        "id": "qLgi0siXFalS"
      },
      "execution_count": 10,
      "outputs": []
    },
    {
      "cell_type": "code",
      "source": [
        "def learn_decision_tree(examples, parent_examples, branch_name):\n",
        "\n",
        "    if not examples.empty:\n",
        "        column = examples['Output']\n",
        "\n",
        "        # Check if all examples have the same output classification.\n",
        "        if column.nunique() == 1:\n",
        "             # Get the actual value of the unique classification.\n",
        "             single_classification = column.iloc[0]\n",
        "             return(TreeNode(single_classification, branch_name))\n",
        "    else :\n",
        "        return(TreeNode(plurality_value(parent_examples), branch_name))\n",
        "\n",
        "#    if attributes empty...\n",
        "\n",
        "    most_important_attribute = max_info_gain(examples)\n",
        "\n",
        "    tree = TreeNode(most_important_attribute, branch_name)\n",
        "\n",
        "    value_groups = examples.groupby(most_important_attribute)\n",
        "\n",
        "    for value_name, group_df in value_groups:\n",
        "        print(value_name)\n",
        "        group_df_mia_dropped = group_df.drop(columns=most_important_attribute)\n",
        "        subtree = learn_decision_tree(group_df_mia_dropped, examples, value_name)\n",
        "        tree.add_child(subtree)\n",
        "\n",
        "    return(tree)"
      ],
      "metadata": {
        "id": "ea4ab0GhZs-E"
      },
      "execution_count": 11,
      "outputs": []
    },
    {
      "cell_type": "code",
      "source": [
        "dec_tree = learn_decision_tree(df, df, 'root')\n"
      ],
      "metadata": {
        "colab": {
          "base_uri": "https://localhost:8080/"
        },
        "id": "xWIISyxjYoDK",
        "outputId": "e177f871-99a5-40b5-d8e7-7bf70e1a786e"
      },
      "execution_count": 12,
      "outputs": [
        {
          "output_type": "stream",
          "name": "stdout",
          "text": [
            "Created node for: Patrons\n",
            "Full\n",
            "Created node for: Hungry\n",
            "No\n",
            "Created node for: No\n",
            "Yes\n",
            "Created node for: Type\n",
            "Burger\n",
            "Created node for: Yes\n",
            "Italian\n",
            "Created node for: No\n",
            "Thai\n",
            "Created node for: Fri/Sat\n",
            "No\n",
            "Created node for: No\n",
            "Yes\n",
            "Created node for: Yes\n",
            "None\n",
            "Created node for: No\n",
            "Some\n",
            "Created node for: Yes\n"
          ]
        }
      ]
    },
    {
      "cell_type": "code",
      "source": [
        "dot = graphviz.Digraph(comment='Restaurant Decision Tree')\n",
        "dot.attr(rankdir='TB')\n",
        "dec_tree.create_graph(dot)\n",
        "#type(dot)"
      ],
      "metadata": {
        "colab": {
          "base_uri": "https://localhost:8080/",
          "height": 544
        },
        "id": "XdopnM5WmeGN",
        "outputId": "cfbf97c2-34dc-4505-e3b0-e3fb6a7bbe78"
      },
      "execution_count": 13,
      "outputs": [
        {
          "output_type": "execute_result",
          "data": {
            "image/svg+xml": "<?xml version=\"1.0\" encoding=\"UTF-8\" standalone=\"no\"?>\n<!DOCTYPE svg PUBLIC \"-//W3C//DTD SVG 1.1//EN\"\n \"http://www.w3.org/Graphics/SVG/1.1/DTD/svg11.dtd\">\n<!-- Generated by graphviz version 2.43.0 (0)\n -->\n<!-- Title: %3 Pages: 1 -->\n<svg width=\"251pt\" height=\"392pt\"\n viewBox=\"0.00 0.00 251.00 392.00\" xmlns=\"http://www.w3.org/2000/svg\" xmlns:xlink=\"http://www.w3.org/1999/xlink\">\n<g id=\"graph0\" class=\"graph\" transform=\"scale(1 1) rotate(0) translate(4 388)\">\n<title>%3</title>\n<polygon fill=\"white\" stroke=\"transparent\" points=\"-4,4 -4,-388 247,-388 247,4 -4,4\"/>\n<!-- 1_1 -->\n<g id=\"node1\" class=\"node\">\n<title>1_1</title>\n<ellipse fill=\"lightblue\" stroke=\"black\" cx=\"130\" cy=\"-366\" rx=\"37.09\" ry=\"18\"/>\n<text text-anchor=\"middle\" x=\"130\" y=\"-362.3\" font-family=\"Times,serif\" font-size=\"14.00\">Patrons</text>\n</g>\n<!-- 2_1 -->\n<g id=\"node2\" class=\"node\">\n<title>2_1</title>\n<ellipse fill=\"lightblue\" stroke=\"black\" cx=\"47\" cy=\"-279\" rx=\"37.89\" ry=\"18\"/>\n<text text-anchor=\"middle\" x=\"47\" y=\"-275.3\" font-family=\"Times,serif\" font-size=\"14.00\">Hungry</text>\n</g>\n<!-- 1_1&#45;&gt;2_1 -->\n<g id=\"edge1\" class=\"edge\">\n<title>1_1&#45;&gt;2_1</title>\n<path fill=\"none\" stroke=\"black\" d=\"M114.78,-349.41C102.02,-336.35 83.65,-317.53 69.25,-302.78\"/>\n<polygon fill=\"black\" stroke=\"black\" points=\"71.62,-300.2 62.13,-295.49 66.61,-305.09 71.62,-300.2\"/>\n<text text-anchor=\"middle\" x=\"105\" y=\"-318.8\" font-family=\"Times,serif\" font-size=\"14.00\">Full</text>\n</g>\n<!-- 2_2 -->\n<g id=\"node10\" class=\"node\">\n<title>2_2</title>\n<ellipse fill=\"lightblue\" stroke=\"black\" cx=\"130\" cy=\"-279\" rx=\"27\" ry=\"18\"/>\n<text text-anchor=\"middle\" x=\"130\" y=\"-275.3\" font-family=\"Times,serif\" font-size=\"14.00\">No</text>\n</g>\n<!-- 1_1&#45;&gt;2_2 -->\n<g id=\"edge9\" class=\"edge\">\n<title>1_1&#45;&gt;2_2</title>\n<path fill=\"none\" stroke=\"black\" d=\"M130,-347.8C130,-336.16 130,-320.55 130,-307.24\"/>\n<polygon fill=\"black\" stroke=\"black\" points=\"133.5,-307.18 130,-297.18 126.5,-307.18 133.5,-307.18\"/>\n<text text-anchor=\"middle\" x=\"145\" y=\"-318.8\" font-family=\"Times,serif\" font-size=\"14.00\">None</text>\n</g>\n<!-- 2_3 -->\n<g id=\"node11\" class=\"node\">\n<title>2_3</title>\n<ellipse fill=\"lightblue\" stroke=\"black\" cx=\"202\" cy=\"-279\" rx=\"27\" ry=\"18\"/>\n<text text-anchor=\"middle\" x=\"202\" y=\"-275.3\" font-family=\"Times,serif\" font-size=\"14.00\">Yes</text>\n</g>\n<!-- 1_1&#45;&gt;2_3 -->\n<g id=\"edge10\" class=\"edge\">\n<title>1_1&#45;&gt;2_3</title>\n<path fill=\"none\" stroke=\"black\" d=\"M145.99,-349.35C151.82,-343.44 158.37,-336.55 164,-330 171.15,-321.69 178.54,-312.2 184.88,-303.74\"/>\n<polygon fill=\"black\" stroke=\"black\" points=\"187.69,-305.82 190.83,-295.7 182.07,-301.66 187.69,-305.82\"/>\n<text text-anchor=\"middle\" x=\"192\" y=\"-318.8\" font-family=\"Times,serif\" font-size=\"14.00\">Some</text>\n</g>\n<!-- 3_1 -->\n<g id=\"node3\" class=\"node\">\n<title>3_1</title>\n<ellipse fill=\"lightblue\" stroke=\"black\" cx=\"27\" cy=\"-192\" rx=\"27\" ry=\"18\"/>\n<text text-anchor=\"middle\" x=\"27\" y=\"-188.3\" font-family=\"Times,serif\" font-size=\"14.00\">No</text>\n</g>\n<!-- 2_1&#45;&gt;3_1 -->\n<g id=\"edge2\" class=\"edge\">\n<title>2_1&#45;&gt;3_1</title>\n<path fill=\"none\" stroke=\"black\" d=\"M42.95,-260.8C40.2,-249.09 36.49,-233.34 33.35,-219.97\"/>\n<polygon fill=\"black\" stroke=\"black\" points=\"36.67,-218.82 30.97,-209.89 29.86,-220.42 36.67,-218.82\"/>\n<text text-anchor=\"middle\" x=\"47.5\" y=\"-231.8\" font-family=\"Times,serif\" font-size=\"14.00\">No</text>\n</g>\n<!-- 3_2 -->\n<g id=\"node4\" class=\"node\">\n<title>3_2</title>\n<ellipse fill=\"lightblue\" stroke=\"black\" cx=\"101\" cy=\"-192\" rx=\"28.7\" ry=\"18\"/>\n<text text-anchor=\"middle\" x=\"101\" y=\"-188.3\" font-family=\"Times,serif\" font-size=\"14.00\">Type</text>\n</g>\n<!-- 2_1&#45;&gt;3_2 -->\n<g id=\"edge3\" class=\"edge\">\n<title>2_1&#45;&gt;3_2</title>\n<path fill=\"none\" stroke=\"black\" d=\"M57.41,-261.61C65.31,-249.19 76.29,-231.9 85.26,-217.78\"/>\n<polygon fill=\"black\" stroke=\"black\" points=\"88.4,-219.37 90.8,-209.05 82.49,-215.61 88.4,-219.37\"/>\n<text text-anchor=\"middle\" x=\"88.5\" y=\"-231.8\" font-family=\"Times,serif\" font-size=\"14.00\">Yes</text>\n</g>\n<!-- 4_1 -->\n<g id=\"node5\" class=\"node\">\n<title>4_1</title>\n<ellipse fill=\"lightblue\" stroke=\"black\" cx=\"29\" cy=\"-105\" rx=\"27\" ry=\"18\"/>\n<text text-anchor=\"middle\" x=\"29\" y=\"-101.3\" font-family=\"Times,serif\" font-size=\"14.00\">Yes</text>\n</g>\n<!-- 3_2&#45;&gt;4_1 -->\n<g id=\"edge4\" class=\"edge\">\n<title>3_2&#45;&gt;4_1</title>\n<path fill=\"none\" stroke=\"black\" d=\"M82.65,-177.9C74.82,-171.78 65.92,-164.07 59,-156 52.59,-148.51 46.72,-139.49 41.9,-131.18\"/>\n<polygon fill=\"black\" stroke=\"black\" points=\"44.84,-129.27 36.93,-122.22 38.72,-132.67 44.84,-129.27\"/>\n<text text-anchor=\"middle\" x=\"78\" y=\"-144.8\" font-family=\"Times,serif\" font-size=\"14.00\">Burger</text>\n</g>\n<!-- 4_2 -->\n<g id=\"node6\" class=\"node\">\n<title>4_2</title>\n<ellipse fill=\"lightblue\" stroke=\"black\" cx=\"101\" cy=\"-105\" rx=\"27\" ry=\"18\"/>\n<text text-anchor=\"middle\" x=\"101\" y=\"-101.3\" font-family=\"Times,serif\" font-size=\"14.00\">No</text>\n</g>\n<!-- 3_2&#45;&gt;4_2 -->\n<g id=\"edge5\" class=\"edge\">\n<title>3_2&#45;&gt;4_2</title>\n<path fill=\"none\" stroke=\"black\" d=\"M101,-173.8C101,-162.16 101,-146.55 101,-133.24\"/>\n<polygon fill=\"black\" stroke=\"black\" points=\"104.5,-133.18 101,-123.18 97.5,-133.18 104.5,-133.18\"/>\n<text text-anchor=\"middle\" x=\"118.5\" y=\"-144.8\" font-family=\"Times,serif\" font-size=\"14.00\">Italian</text>\n</g>\n<!-- 4_3 -->\n<g id=\"node7\" class=\"node\">\n<title>4_3</title>\n<ellipse fill=\"lightblue\" stroke=\"black\" cx=\"180\" cy=\"-105\" rx=\"34.39\" ry=\"18\"/>\n<text text-anchor=\"middle\" x=\"180\" y=\"-101.3\" font-family=\"Times,serif\" font-size=\"14.00\">Fri/Sat</text>\n</g>\n<!-- 3_2&#45;&gt;4_3 -->\n<g id=\"edge6\" class=\"edge\">\n<title>3_2&#45;&gt;4_3</title>\n<path fill=\"none\" stroke=\"black\" d=\"M117.49,-177.27C124.66,-171.03 133,-163.41 140,-156 147.56,-148 155.25,-138.71 161.85,-130.32\"/>\n<polygon fill=\"black\" stroke=\"black\" points=\"164.69,-132.37 168.03,-122.32 159.15,-128.1 164.69,-132.37\"/>\n<text text-anchor=\"middle\" x=\"164.5\" y=\"-144.8\" font-family=\"Times,serif\" font-size=\"14.00\">Thai</text>\n</g>\n<!-- 5_1 -->\n<g id=\"node8\" class=\"node\">\n<title>5_1</title>\n<ellipse fill=\"lightblue\" stroke=\"black\" cx=\"144\" cy=\"-18\" rx=\"27\" ry=\"18\"/>\n<text text-anchor=\"middle\" x=\"144\" y=\"-14.3\" font-family=\"Times,serif\" font-size=\"14.00\">No</text>\n</g>\n<!-- 4_3&#45;&gt;5_1 -->\n<g id=\"edge7\" class=\"edge\">\n<title>4_3&#45;&gt;5_1</title>\n<path fill=\"none\" stroke=\"black\" d=\"M172.89,-87.21C167.78,-75.14 160.79,-58.64 154.97,-44.89\"/>\n<polygon fill=\"black\" stroke=\"black\" points=\"158.1,-43.31 150.98,-35.47 151.65,-46.04 158.1,-43.31\"/>\n<text text-anchor=\"middle\" x=\"172.5\" y=\"-57.8\" font-family=\"Times,serif\" font-size=\"14.00\">No</text>\n</g>\n<!-- 5_2 -->\n<g id=\"node9\" class=\"node\">\n<title>5_2</title>\n<ellipse fill=\"lightblue\" stroke=\"black\" cx=\"216\" cy=\"-18\" rx=\"27\" ry=\"18\"/>\n<text text-anchor=\"middle\" x=\"216\" y=\"-14.3\" font-family=\"Times,serif\" font-size=\"14.00\">Yes</text>\n</g>\n<!-- 4_3&#45;&gt;5_2 -->\n<g id=\"edge8\" class=\"edge\">\n<title>4_3&#45;&gt;5_2</title>\n<path fill=\"none\" stroke=\"black\" d=\"M187.11,-87.21C192.22,-75.14 199.21,-58.64 205.03,-44.89\"/>\n<polygon fill=\"black\" stroke=\"black\" points=\"208.35,-46.04 209.02,-35.47 201.9,-43.31 208.35,-46.04\"/>\n<text text-anchor=\"middle\" x=\"210.5\" y=\"-57.8\" font-family=\"Times,serif\" font-size=\"14.00\">Yes</text>\n</g>\n</g>\n</svg>\n",
            "text/plain": [
              "<graphviz.graphs.Digraph at 0x7cd5277a70a0>"
            ]
          },
          "metadata": {},
          "execution_count": 13
        }
      ]
    },
    {
      "cell_type": "markdown",
      "source": [
        "Evaluate the decision tree with each input vector from the training set.  Verify that the calculated output matches the expected output for each example."
      ],
      "metadata": {
        "id": "52gbPp_BoDuN"
      }
    },
    {
      "cell_type": "code",
      "source": [
        "for index, row in df.iterrows():\n",
        "    # Convert the row to a Series\n",
        "    row_series = row.copy()\n",
        "    # Remove the last value (\"Output\")\n",
        "    row_series = row_series[:-1]\n",
        "    # Print the modified row\n",
        "    #print(f\"\\nModified Row {index}:\")\n",
        "    #print(row_series)\n",
        "    print(row['Output'],dec_tree.evaluate(row_series))"
      ],
      "metadata": {
        "colab": {
          "base_uri": "https://localhost:8080/"
        },
        "id": "dT8TCw4xVctr",
        "outputId": "38413fb3-4112-497c-ca16-caeede050d9e"
      },
      "execution_count": 28,
      "outputs": [
        {
          "output_type": "stream",
          "name": "stdout",
          "text": [
            "Yes Yes\n",
            "No No\n",
            "Yes Yes\n",
            "Yes Yes\n",
            "No No\n",
            "Yes Yes\n",
            "No No\n",
            "Yes Yes\n",
            "No No\n",
            "No No\n",
            "No No\n",
            "Yes Yes\n"
          ]
        }
      ]
    },
    {
      "cell_type": "markdown",
      "source": [
        "One error that needs to be fixed is that there is no transition for a French restaurant in the decision tree.  We can stimulate this error by changing the row 4 \"Hungry\" attribute to \"Yes\"."
      ],
      "metadata": {
        "id": "5MRTbInTrAtq"
      }
    },
    {
      "cell_type": "code",
      "source": [
        "test_row = df.iloc[4]\n",
        "test_row[\"Hungry\"] = 'Yes'\n",
        "print(dec_tree.evaluate(test_row))"
      ],
      "metadata": {
        "colab": {
          "base_uri": "https://localhost:8080/"
        },
        "id": "Vk6ornAy85Qe",
        "outputId": "b77310b0-d170-45c8-ccb0-bfffba5c75d3"
      },
      "execution_count": 24,
      "outputs": [
        {
          "output_type": "stream",
          "name": "stdout",
          "text": [
            "None\n"
          ]
        }
      ]
    },
    {
      "cell_type": "markdown",
      "source": [
        "# **Archived code snippets below here:**"
      ],
      "metadata": {
        "id": "-pOG2vjLE0Af"
      }
    },
    {
      "cell_type": "code",
      "source": [
        "import os"
      ],
      "metadata": {
        "id": "G1EpRX8oWAS7"
      },
      "execution_count": 16,
      "outputs": []
    },
    {
      "cell_type": "code",
      "source": [
        "os.listdir()"
      ],
      "metadata": {
        "colab": {
          "base_uri": "https://localhost:8080/"
        },
        "id": "hIlBoavVW9jR",
        "outputId": "98d99186-0c09-4b83-b832-0d902e8cb556"
      },
      "execution_count": 17,
      "outputs": [
        {
          "output_type": "execute_result",
          "data": {
            "text/plain": [
              "['.config', 'restaurant_waiting_examples.csv', 'sample_data']"
            ]
          },
          "metadata": {},
          "execution_count": 17
        }
      ]
    },
    {
      "cell_type": "code",
      "source": [
        "os.remove('restaurant.csv')"
      ],
      "metadata": {
        "id": "F-duN7wcXJFw",
        "colab": {
          "base_uri": "https://localhost:8080/",
          "height": 141
        },
        "outputId": "092f84cc-e40e-488a-9e20-4fe184f25789"
      },
      "execution_count": 18,
      "outputs": [
        {
          "output_type": "error",
          "ename": "FileNotFoundError",
          "evalue": "[Errno 2] No such file or directory: 'restaurant.csv'",
          "traceback": [
            "\u001b[0;31m---------------------------------------------------------------------------\u001b[0m",
            "\u001b[0;31mFileNotFoundError\u001b[0m                         Traceback (most recent call last)",
            "\u001b[0;32m<ipython-input-18-b675e848d4b6>\u001b[0m in \u001b[0;36m<cell line: 1>\u001b[0;34m()\u001b[0m\n\u001b[0;32m----> 1\u001b[0;31m \u001b[0mos\u001b[0m\u001b[0;34m.\u001b[0m\u001b[0mremove\u001b[0m\u001b[0;34m(\u001b[0m\u001b[0;34m'restaurant.csv'\u001b[0m\u001b[0;34m)\u001b[0m\u001b[0;34m\u001b[0m\u001b[0;34m\u001b[0m\u001b[0m\n\u001b[0m",
            "\u001b[0;31mFileNotFoundError\u001b[0m: [Errno 2] No such file or directory: 'restaurant.csv'"
          ]
        }
      ]
    },
    {
      "cell_type": "code",
      "source": [
        "uploaded['restaurant.csv']"
      ],
      "metadata": {
        "id": "V7Q-sSPJg52Q"
      },
      "execution_count": null,
      "outputs": []
    },
    {
      "cell_type": "code",
      "source": [
        "df['Output'][4]"
      ],
      "metadata": {
        "id": "zWKsLQ4lRjAs"
      },
      "execution_count": null,
      "outputs": []
    },
    {
      "cell_type": "code",
      "source": [
        "plurality_value(df.iloc[0:11])"
      ],
      "metadata": {
        "id": "pX81pv1Lb_Aw"
      },
      "execution_count": null,
      "outputs": []
    },
    {
      "cell_type": "code",
      "source": [
        "df.iloc[2:5]['Output'].value_counts().idxmax()"
      ],
      "metadata": {
        "id": "DngjzZyrJlwr"
      },
      "execution_count": null,
      "outputs": []
    },
    {
      "cell_type": "code",
      "source": [
        "grouped = df.groupby('Patrons')\n",
        "dfs = {city: group for city, group in grouped}\n",
        "grouped.groups"
      ],
      "metadata": {
        "id": "5305jPUdk4-n"
      },
      "execution_count": null,
      "outputs": []
    },
    {
      "cell_type": "code",
      "source": [
        "group_df['Output'].value_counts()"
      ],
      "metadata": {
        "id": "uGcUq_qMdpdR"
      },
      "execution_count": null,
      "outputs": []
    },
    {
      "cell_type": "code",
      "source": [
        "x = grouped.get_group('Full')['Output'].value_counts()\n",
        "#x['Yes'] + x['No']\n",
        "x.index"
      ],
      "metadata": {
        "id": "MhE3FFpRqfdQ"
      },
      "execution_count": null,
      "outputs": []
    },
    {
      "cell_type": "code",
      "source": [
        "dfs.keys()"
      ],
      "metadata": {
        "id": "HEyZiVuck4Kt"
      },
      "execution_count": null,
      "outputs": []
    },
    {
      "cell_type": "code",
      "source": [
        "def remaining_entropy_old(groups, tot_examples):\n",
        "    for value, group_df in groups:\n",
        "        print(f\"DataFrame for value: {value}\")\n",
        "        counts_series = group_df['Output'].value_counts()\n",
        "        tot_yes = counts_series['Yes']\n",
        "        tot_examples_this_value = len(group_df)\n",
        "        print(tot_yes)\n",
        "        print(len(group_df))\n",
        "        print(entropy_boolean(tot_yes/tot_examples_this_value))\n",
        "        print(tot_examples_this_value/tot_examples)\n",
        "        print()\n",
        "        print()"
      ],
      "metadata": {
        "id": "th9T0nVHXZAn"
      },
      "execution_count": null,
      "outputs": []
    },
    {
      "cell_type": "code",
      "source": [
        "df.iloc[0:11]"
      ],
      "metadata": {
        "id": "uEuj8anjaEBU"
      },
      "execution_count": null,
      "outputs": []
    },
    {
      "cell_type": "markdown",
      "source": [
        "Possibly use Graphviz to visualize tree in the future."
      ],
      "metadata": {
        "id": "ohl8fA7EEaTB"
      }
    },
    {
      "cell_type": "code",
      "source": [
        "dot = graphviz.Digraph(comment='The Round Table')\n",
        "\n",
        "dot.node('A', 'Patrons?')\n",
        "dot.node('B', 'No')\n",
        "dot.node('L', 'Yes')\n",
        "dot.node('C', 'Hungry')\n",
        "dot.node('D', 'Test')\n",
        "\n",
        "dot.edge('A', 'B', label='None')\n",
        "dot.edge('A', 'L', label='Some')\n",
        "dot.edge('A', 'C', label='Full')\n",
        "dot.edge('C', 'D', label='New Level')\n",
        "#dot.edges(['AB', 'AL'])\n",
        "#dot.edge('B', 'L', constraint='false')\n",
        "\n",
        "dot"
      ],
      "metadata": {
        "id": "j-cbcsH9CCaI"
      },
      "execution_count": null,
      "outputs": []
    }
  ],
  "metadata": {
    "colab": {
      "provenance": [],
      "include_colab_link": true
    },
    "kernelspec": {
      "display_name": "Python 3",
      "name": "python3"
    }
  },
  "nbformat": 4,
  "nbformat_minor": 0
}